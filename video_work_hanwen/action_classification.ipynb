{
 "cells": [
  {
   "cell_type": "code",
   "execution_count": 2,
   "metadata": {},
   "outputs": [],
   "source": [
    "import os\n",
    "import subprocess"
   ]
  },
  {
   "cell_type": "code",
   "execution_count": 1,
   "metadata": {},
   "outputs": [],
   "source": [
    "# video_name_list = os.listdir('./miniclips')\n",
    "# for video_name in video_name_list:\n",
    "#     print(video_name)\n",
    "# #     clip_list = os.listdir(os.path.join('./clean_videos', video_name))\n",
    "# #     for clip in clip_list:\n",
    "#     subprocess.call('python main.py --input ./input --video_root ./miniclips/{0} --output ./miniclips_outputs/{0}.json --model_depth 101 --resnet_shortcut B --model ./resnet-101-kinetics.pth --mode score'.format(video_name),\n",
    "#                             shell=True)"
   ]
  },
  {
   "cell_type": "code",
   "execution_count": 5,
   "metadata": {},
   "outputs": [],
   "source": [
    "# class_names = os.listdir('./splits_reason')\n",
    "# for class_name in class_names:\n",
    "#     subprocess.call('python main.py --input ./input --video_root ./splits_reason/{0} --output ./vlogs_outputs/{0}.json --model_depth 101 --resnet_shortcut B --model ./resnet-101-kinetics.pth --mode score'.format(class_name),\n",
    "#                             shell=True)"
   ]
  },
  {
   "cell_type": "code",
   "execution_count": 8,
   "metadata": {},
   "outputs": [
    {
     "data": {
      "text/plain": [
       "0"
      ]
     },
     "execution_count": 8,
     "metadata": {},
     "output_type": "execute_result"
    }
   ],
   "source": [
    "subprocess.call('python main.py --input ./input --video_root ./miniclips --output ./miniclips.json --model_depth 101 --resnet_shortcut B --model ./resnet-101-kinetics.pth --mode score',\n",
    "                            shell=True)"
   ]
  },
  {
   "cell_type": "code",
   "execution_count": null,
   "metadata": {},
   "outputs": [],
   "source": []
  },
  {
   "cell_type": "code",
   "execution_count": null,
   "metadata": {},
   "outputs": [],
   "source": []
  },
  {
   "cell_type": "code",
   "execution_count": null,
   "metadata": {},
   "outputs": [],
   "source": []
  },
  {
   "cell_type": "code",
   "execution_count": 1,
   "metadata": {},
   "outputs": [],
   "source": [
    "import json\n",
    "import os\n",
    "\n",
    "json_files = os.listdir('./vlogs_outputs')\n",
    "all_outputs = dict()\n",
    "for json_file in json_files:\n",
    "    with open(os.path.join('./vlogs_outputs', json_file), 'r') as f:\n",
    "        output = json.load(f)\n",
    "    class_name = json_file.split('.')[0]\n",
    "    all_outputs[class_name] = output"
   ]
  },
  {
   "cell_type": "code",
   "execution_count": 3,
   "metadata": {},
   "outputs": [],
   "source": [
    "with open('all_outputs.json', 'w') as f:\n",
    "    json.dump(all_outputs, f)"
   ]
  },
  {
   "cell_type": "code",
   "execution_count": null,
   "metadata": {},
   "outputs": [],
   "source": []
  },
  {
   "cell_type": "code",
   "execution_count": 6,
   "metadata": {},
   "outputs": [],
   "source": [
    "import subprocess\n",
    "import os\n",
    "\n",
    "if not os.path.exists('./frames'):\n",
    "    os.makedirs('./frames')\n",
    "class_names = os.listdir('./splits_reason')\n",
    "for class_name in class_names:\n",
    "    save_folder = os.path.join('./frames', class_name)\n",
    "    if not os.path.exists(save_folder):\n",
    "        os.makedirs(save_folder)\n",
    "    video_list = os.listdir(os.path.join('./splits_reason', class_name))\n",
    "    for video in video_list:\n",
    "        video_path = os.path.join('./splits_reason', class_name, video)\n",
    "        save_path = os.path.join(save_folder, video)\n",
    "        if not os.path.exists(save_path):\n",
    "            os.makedirs(save_path)\n",
    "        subprocess.call('ffmpeg -i {0} {1}/image_%05d.jpg'.format(video_path, save_path),\n",
    "                            shell=True)"
   ]
  },
  {
   "cell_type": "code",
   "execution_count": null,
   "metadata": {},
   "outputs": [],
   "source": []
  },
  {
   "cell_type": "code",
   "execution_count": 1,
   "metadata": {},
   "outputs": [],
   "source": [
    "import json"
   ]
  },
  {
   "cell_type": "code",
   "execution_count": 2,
   "metadata": {},
   "outputs": [],
   "source": [
    "with open('./vlogs_outputs/drink.json', 'r') as f:\n",
    "    json_file = json.load(f)\n",
    "new_dict = dict()\n",
    "for item in json_file:\n",
    "    video = item['video']\n",
    "    all_labels = dict()\n",
    "    clips = item['clips']\n",
    "    for clip in clips:\n",
    "        labels = clip['label']\n",
    "        for label in labels:\n",
    "            if label['label'] not in all_labels.keys():\n",
    "                all_labels[label['label']] = 1\n",
    "            else:\n",
    "                all_labels[label['label']] += 1\n",
    "    label_frequence = [(k, v) for k, v in all_labels.items()]\n",
    "    label_frequence.sort(key = lambda label_frequence: label_frequence[1], reverse=True)  \n",
    "    new_dict[video] = label_frequence\n",
    "    "
   ]
  },
  {
   "cell_type": "code",
   "execution_count": 3,
   "metadata": {},
   "outputs": [
    {
     "data": {
      "text/plain": [
       "dict_keys(['jojy1PsR14c_0:01:29.700000_0:01:57.450000.mp4', 'w6letL23F_8_0:01:19.480000_0:01:50.770000.mp4', 'd2FnEy2ZoFo_0:02:26.890000_0:02:50.410000.mp4', 'oli02rZuZTA_0:15:56.540000_0:16:17.690000.mp4', 'EkF4hgzNAFA_0:02:24.120000_0:02:54.719000.mp4', 'W-k-35uYNoo_0:09:14.530000_0:09:24.910000.mp4', 'H3AN-5M_vRk_0:03:11.200000_0:03:40.780000.mp4', 'E92kn6KO3ls_0:09:09.279000_0:09:38.620000.mp4', 'iVMtzMHJsik_0:01:20.560000_0:01:45.830000.mp4', 'nJYH1T8Uois_0:04:01.010000_0:04:31.910000.mp4', 'ZEtwzfYtkuM_0:01:28.459000_0:01:38.270000.mp4', 'hNvi5ztZ7z4_0:02:13.150000_0:03:03.670000.mp4'])"
      ]
     },
     "execution_count": 3,
     "metadata": {},
     "output_type": "execute_result"
    }
   ],
   "source": [
    "new_dict.keys()"
   ]
  },
  {
   "cell_type": "code",
   "execution_count": 6,
   "metadata": {},
   "outputs": [
    {
     "data": {
      "text/plain": [
       "[('making tea', 17),\n",
       " ('smoking', 13),\n",
       " ('cooking egg', 11),\n",
       " ('opening bottle', 10),\n",
       " ('making a cake', 9),\n",
       " ('applying cream', 9),\n",
       " ('washing hands', 8),\n",
       " ('cleaning shoes', 8),\n",
       " ('filling eyebrows', 8),\n",
       " ('cleaning toilet', 7),\n",
       " ('fixing hair', 7),\n",
       " ('drinking', 6),\n",
       " ('sharpening pencil', 5),\n",
       " ('clay pottery making', 5),\n",
       " ('getting a tattoo', 5),\n",
       " ('texting', 5),\n",
       " ('baking cookies', 4),\n",
       " ('finger snapping', 4),\n",
       " ('contact juggling', 4),\n",
       " ('brushing hair', 4),\n",
       " ('kissing', 4),\n",
       " ('reading book', 3),\n",
       " ('peeling potatoes', 3),\n",
       " ('curling hair', 3),\n",
       " ('unboxing', 2),\n",
       " ('doing nails', 2),\n",
       " ('playing cards', 2),\n",
       " ('cooking chicken', 2),\n",
       " ('grinding meat', 2),\n",
       " ('dying hair', 2),\n",
       " ('tasting food', 2),\n",
       " ('reading newspaper', 1),\n",
       " ('writing', 1),\n",
       " ('sanding floor', 1),\n",
       " ('cleaning floor', 1),\n",
       " ('tasting beer', 1),\n",
       " ('making jewelry', 1),\n",
       " ('folding napkins', 1),\n",
       " ('breading or breadcrumbing', 1),\n",
       " ('cooking sausages', 1),\n",
       " ('peeling apples', 1),\n",
       " ('eating chips', 1),\n",
       " ('setting table', 1),\n",
       " ('whistling', 1),\n",
       " ('yoga', 1),\n",
       " ('front raises', 1),\n",
       " ('belly dancing', 1),\n",
       " ('scrambling eggs', 1),\n",
       " ('dancing ballet', 1),\n",
       " ('washing hair', 1)]"
      ]
     },
     "execution_count": 6,
     "metadata": {},
     "output_type": "execute_result"
    }
   ],
   "source": [
    "new_dict['iVMtzMHJsik_0:01:20.560000_0:01:45.830000.mp4']"
   ]
  },
  {
   "cell_type": "code",
   "execution_count": 14,
   "metadata": {},
   "outputs": [
    {
     "data": {
      "text/plain": [
       "[('applying cream', 19),\n",
       " ('fixing hair', 19),\n",
       " ('washing dishes', 17),\n",
       " ('making a cake', 17),\n",
       " ('braiding hair', 16),\n",
       " ('baking cookies', 15),\n",
       " ('dying hair', 13),\n",
       " ('scrambling eggs', 13),\n",
       " ('tasting food', 12),\n",
       " ('filling eyebrows', 7),\n",
       " ('washing hair', 7),\n",
       " ('curling hair', 7),\n",
       " ('doing laundry', 7),\n",
       " ('front raises', 6),\n",
       " ('situp', 6),\n",
       " (\"massaging person's head\", 5),\n",
       " ('arranging flowers', 5),\n",
       " ('waxing eyebrows', 4),\n",
       " ('making tea', 4),\n",
       " ('peeling apples', 4),\n",
       " ('sharpening pencil', 4),\n",
       " ('making jewelry', 4),\n",
       " ('making pizza', 4),\n",
       " ('bobsledding', 3),\n",
       " ('motorcycling', 3),\n",
       " ('exercising arm', 3),\n",
       " ('grinding meat', 3),\n",
       " ('shredding paper', 3),\n",
       " ('watering plants', 3),\n",
       " ('setting table', 3),\n",
       " ('cutting watermelon', 3),\n",
       " ('unboxing', 3),\n",
       " ('flipping pancake', 3),\n",
       " ('eating burger', 3),\n",
       " ('answering questions', 3),\n",
       " ('cutting pineapple', 2),\n",
       " ('snowmobiling', 2),\n",
       " ('throwing ball', 2),\n",
       " ('stretching arm', 2),\n",
       " ('making sushi', 2),\n",
       " ('cleaning shoes', 2),\n",
       " ('cleaning toilet', 2),\n",
       " ('washing hands', 2),\n",
       " ('making bed', 2),\n",
       " ('eating chips', 2),\n",
       " ('eating ice cream', 2),\n",
       " ('smoking', 2),\n",
       " ('laughing', 2),\n",
       " ('kissing', 2),\n",
       " ('singing', 2),\n",
       " ('dining', 2),\n",
       " ('bench pressing', 1),\n",
       " ('archery', 1),\n",
       " ('lunge', 1),\n",
       " ('bee keeping', 1),\n",
       " ('cleaning gutters', 1),\n",
       " ('cooking egg', 1),\n",
       " ('using remote controller (not gaming)', 1),\n",
       " ('ironing', 1),\n",
       " ('folding clothes', 1),\n",
       " ('building cabinet', 1),\n",
       " ('sanding floor', 1),\n",
       " ('plastering', 1),\n",
       " ('sharpening knives', 1),\n",
       " ('doing nails', 1),\n",
       " ('peeling potatoes', 1),\n",
       " ('carving pumpkin', 1),\n",
       " ('trimming or shaving beard', 1),\n",
       " ('eating doughnuts', 1),\n",
       " ('eating spaghetti', 1),\n",
       " ('brush painting', 1),\n",
       " ('crying', 1),\n",
       " ('gargling', 1)]"
      ]
     },
     "execution_count": 14,
     "metadata": {},
     "output_type": "execute_result"
    }
   ],
   "source": [
    "new_dict['jVaungs6XtY_0:19:01.840000_0:19:42.770000.mp4']"
   ]
  },
  {
   "cell_type": "code",
   "execution_count": 15,
   "metadata": {},
   "outputs": [
    {
     "data": {
      "text/plain": [
       "[('wrapping present', 20),\n",
       " ('tasting food', 17),\n",
       " ('unboxing', 14),\n",
       " ('gargling', 13),\n",
       " ('answering questions', 13),\n",
       " ('bookbinding', 12),\n",
       " ('building cabinet', 10),\n",
       " ('dining', 10),\n",
       " ('drumming fingers', 5),\n",
       " ('folding paper', 5),\n",
       " ('waxing legs', 5),\n",
       " ('doing nails', 4),\n",
       " ('arranging flowers', 4),\n",
       " ('applying cream', 4),\n",
       " ('folding clothes', 3),\n",
       " ('decorating the christmas tree', 3),\n",
       " ('drawing', 3),\n",
       " ('using computer', 3),\n",
       " ('making jewelry', 2),\n",
       " ('building shed', 1),\n",
       " ('playing cards', 1),\n",
       " ('playing xylophone', 1),\n",
       " ('sharpening pencil', 1),\n",
       " ('shredding paper', 1),\n",
       " ('reading book', 1),\n",
       " ('texting', 1),\n",
       " ('eating chips', 1),\n",
       " ('drinking', 1),\n",
       " ('tasting beer', 1)]"
      ]
     },
     "execution_count": 15,
     "metadata": {},
     "output_type": "execute_result"
    }
   ],
   "source": [
    "new_dict['HLRIJmZ9X6k_0:08:13.940000_0:08:31.099000.mp4']"
   ]
  },
  {
   "cell_type": "code",
   "execution_count": null,
   "metadata": {},
   "outputs": [],
   "source": []
  }
 ],
 "metadata": {
  "kernelspec": {
   "display_name": "Python 3",
   "language": "python",
   "name": "python3"
  },
  "language_info": {
   "codemirror_mode": {
    "name": "ipython",
    "version": 3
   },
   "file_extension": ".py",
   "mimetype": "text/x-python",
   "name": "python",
   "nbconvert_exporter": "python",
   "pygments_lexer": "ipython3",
   "version": "3.6.7"
  }
 },
 "nbformat": 4,
 "nbformat_minor": 4
}